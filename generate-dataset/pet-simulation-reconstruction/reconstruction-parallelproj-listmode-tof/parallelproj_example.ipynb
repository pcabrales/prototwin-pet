{
  "cells": [
    {
      "cell_type": "markdown",
      "metadata": {},
      "source": [
        "\n",
        "# TOF listmode OSEM with projection data\n",
        "\n",
        "This example demonstrates the use of the listmode OSEM algorithm to minimize the negative Poisson log-likelihood function.\n",
        "\n",
        "\\begin{align}f(x) = \\sum_{i=1}^m \\bar{y}_i (x) - \\bar{y}_i (x) \\log(y_i)\\end{align}\n",
        "\n",
        "subject to\n",
        "\n",
        "\\begin{align}x \\geq 0\\end{align}\n",
        "\n",
        "using the listmode linear forward model\n",
        "\n",
        "\\begin{align}\\bar{y}_{LM}(x) = A_{LM} x + s\\end{align}\n",
        "\n",
        "and data stored in listmode format (event by event).\n",
        "\n",
        ".. tip::\n",
        "    parallelproj is python array API compatible meaning it supports different \n",
        "    array backends (e.g. numpy, cupy, torch, ...) and devices (CPU or GPU).\n",
        "    Choose your preferred array API ``xp`` and device ``dev`` below.\n",
        "\n",
        "<img src=\"https://mybinder.org/badge_logo.svg\" target=\"https://mybinder.org/v2/gh/gschramm/parallelproj/master?labpath=examples\">\n"
      ]
    },
    {
      "cell_type": "code",
      "execution_count": 1,
      "metadata": {
        "collapsed": false
      },
      "outputs": [
        {
          "name": "stdout",
          "output_type": "stream",
          "text": [
            "\n",
            "          -  -  -  -  -  -  -  -   -  -  -  -\n",
            "          P  A  R  A  L  L  E  L | P  R  O  J\n",
            "          -  -  -  -  -  -  -  -   -  -  -  -\n",
            "\n",
            "    =================================================\n",
            "\n",
            "         Please consider citing our publication\n",
            "      ---------------------------------------------\n",
            "      Georg Schramm and Kris Thielemans:\n",
            "      \"PARALLELPROJ—an open-source framework for\n",
            "       fast calculation of projections in\n",
            "       tomography\"\n",
            "      Front. Nucl. Med., 08 January 2024\n",
            "      Sec. PET and SPECT, Vol 3\n",
            "      https://doi.org/10.3389/fnume.2023.1324562\n",
            "\n",
            "    =================================================\n",
            " \n",
            "    parallelproj C    lib: /home/pablo/anaconda3/envs/recon/lib/libparallelproj_c.so.1.8.0\n",
            "    parallelproj CUDA lib: /home/pablo/anaconda3/envs/recon/lib/libparallelproj_cuda.so.1.8.0\n",
            "    \n"
          ]
        }
      ],
      "source": [
        "from __future__ import annotations\n",
        "from array_api_strict._array_object import Array\n",
        "\n",
        "# import array_api_compat.numpy as xp\n",
        "\n",
        "import array_api_compat.cupy as xp\n",
        "# import array_api_compat.torch as xp\n",
        "\n",
        "import parallelproj\n",
        "from array_api_compat import to_device, size\n",
        "import array_api_compat.numpy as np\n",
        "import matplotlib.pyplot as plt\n",
        "import matplotlib.animation as animation\n",
        "from copy import copy\n",
        "\n",
        "# choose a device (CPU or CUDA GPU)\n",
        "if \"numpy\" in xp.__name__:\n",
        "    # using numpy, device must be cpu\n",
        "    dev = \"cpu\"\n",
        "elif \"cupy\" in xp.__name__:\n",
        "    # using cupy, only cuda devices are possible\n",
        "    dev = xp.cuda.Device(0)\n",
        "elif \"torch\" in xp.__name__:\n",
        "    # using torch valid choices are 'cpu' or 'cuda'\n",
        "    if parallelproj.cuda_present:\n",
        "        dev = \"cuda\"\n",
        "    else:\n",
        "        dev = \"cpu\""
      ]
    },
    {
      "cell_type": "markdown",
      "metadata": {},
      "source": [
        "## Simulation of PET data in sinogram space\n",
        "\n",
        "In this example, we use simulated listmode data for which we first\n",
        "need to setup a sinogram forward model to create a noise-free and noisy\n",
        "emission sinogram that can be converted to listmode data.\n",
        "\n"
      ]
    },
    {
      "cell_type": "markdown",
      "metadata": {},
      "source": [
        "### Setup of the sinogram forward model\n",
        "\n",
        "We setup a linear forward operator $A$ consisting of an\n",
        "image-based resolution model, a non-TOF PET projector and an attenuation model\n",
        "\n",
        "\n"
      ]
    },
    {
      "cell_type": "code",
      "execution_count": 2,
      "metadata": {
        "collapsed": false
      },
      "outputs": [],
      "source": [
        "# num_rings = 5\n",
        "# scanner = parallelproj.RegularPolygonPETScannerGeometry(\n",
        "#     xp,\n",
        "#     dev,\n",
        "#     radius=65.0,\n",
        "#     num_sides=12,\n",
        "#     num_lor_endpoints_per_side=15,\n",
        "#     lor_spacing=2.3,\n",
        "#     ring_positions=xp.linspace(-10, 10, num_rings),\n",
        "#     symmetry_axis=2,\n",
        "# )\n",
        "\n",
        "num_rings = 20\n",
        "radius = 65.0\n",
        "scanner = parallelproj.RegularPolygonPETScannerGeometry(\n",
        "    xp,\n",
        "    dev,\n",
        "    radius=radius,\n",
        "    num_sides=180,\n",
        "    num_lor_endpoints_per_side=1,\n",
        "    lor_spacing=2.3,\n",
        "    ring_positions=xp.linspace(-10, 10, num_rings),\n",
        "    symmetry_axis=2,\n",
        ")\n",
        "\n",
        "# setup the LOR descriptor that defines the sinogram\n",
        "\n",
        "img_shape = (40, 40, 8)\n",
        "voxel_size = (2.0, 2.0, 2.0)\n",
        "\n",
        "lor_desc = parallelproj.RegularPolygonPETLORDescriptor(\n",
        "    scanner,\n",
        "    radial_trim=10,\n",
        "    max_ring_difference=79,\n",
        "    sinogram_order=parallelproj.SinogramSpatialAxisOrder.RVP,\n",
        ")\n",
        "\n",
        "proj = parallelproj.RegularPolygonPETProjector(\n",
        "    lor_desc, img_shape=img_shape, voxel_size=voxel_size\n",
        ")\n",
        "\n",
        "# setup a simple test image containing a few \"hot rods\"\n",
        "x_true = xp.ones(proj.in_shape, device=dev, dtype=xp.float32)\n",
        "c0 = proj.in_shape[0] // 2\n",
        "c1 = proj.in_shape[1] // 2\n",
        "x_true[(c0 - 2) : (c0 + 2), (c1 - 2) : (c1 + 2), :] = 5.0\n",
        "x_true[4, c1, 2:] = 5.0\n",
        "x_true[c0, 4, :-2] = 5.0\n",
        "\n",
        "x_true[:2, :, :] = 0\n",
        "x_true[-2:, :, :] = 0\n",
        "x_true[:, :2, :] = 0\n",
        "x_true[:, -2:, :] = 0"
      ]
    },
    {
      "cell_type": "markdown",
      "metadata": {},
      "source": [
        "### Attenuation image and sinogram setup\n",
        "\n"
      ]
    },
    {
      "cell_type": "code",
      "execution_count": 3,
      "metadata": {
        "collapsed": false
      },
      "outputs": [],
      "source": [
        "# setup an attenuation image\n",
        "x_att = 0.01 * xp.astype(x_true > 0, xp.float32)\n",
        "# calculate the attenuation sinogram\n",
        "att_sino = xp.exp(-proj(x_att))"
      ]
    },
    {
      "cell_type": "markdown",
      "metadata": {},
      "source": [
        "### Complete sinogram PET forward model setup\n",
        "\n",
        "We combine an image-based resolution model,\n",
        "a non-TOF or TOF PET projector and an attenuation model\n",
        "into a single linear operator.\n",
        "\n"
      ]
    },
    {
      "cell_type": "code",
      "execution_count": 4,
      "metadata": {
        "collapsed": false
      },
      "outputs": [],
      "source": [
        "# enable TOF - comment if you want to run non-TOF\n",
        "proj.tof_parameters = parallelproj.TOFParameters(\n",
        "    num_tofbins=13, tofbin_width=12.0, sigma_tof=12.0\n",
        ")\n",
        "\n",
        "# setup the attenuation multiplication operator which is different\n",
        "# for TOF and non-TOF since the attenuation sinogram is always non-TOF\n",
        "# if proj.tof:\n",
        "#     att_op = parallelproj.TOFNonTOFElementwiseMultiplicationOperator(\n",
        "#         proj.out_shape, att_sino\n",
        "#     )\n",
        "# else:\n",
        "#     att_op = parallelproj.ElementwiseMultiplicationOperator(att_sino)\n",
        "\n",
        "res_model = parallelproj.GaussianFilterOperator(\n",
        "    proj.in_shape, sigma=0.0 / (2.35 * proj.voxel_size)\n",
        ")\n",
        "\n",
        "# compose all 3 operators into a single linear operator\n",
        "pet_lin_op = parallelproj.CompositeLinearOperator((proj, res_model))"
      ]
    },
    {
      "cell_type": "markdown",
      "metadata": {},
      "source": [
        "### Simulation of sinogram projection data\n",
        "\n",
        "We setup an arbitrary ground truth $x_{true}$ and simulate\n",
        "noise-free and noisy data $y$ by adding Poisson noise.\n",
        "\n"
      ]
    },
    {
      "cell_type": "code",
      "execution_count": 5,
      "metadata": {
        "collapsed": false
      },
      "outputs": [],
      "source": [
        "# simulated noise-free data\n",
        "noise_free_data = pet_lin_op(x_true)\n",
        "\n",
        "# generate a contant contamination sinogram\n",
        "contamination = xp.full(\n",
        "    noise_free_data.shape,\n",
        "    0.5 * float(xp.mean(noise_free_data)),\n",
        "    device=dev,\n",
        "    dtype=xp.float32,\n",
        ")\n",
        "\n",
        "noise_free_data += contamination\n",
        "\n",
        "# add Poisson noise\n",
        "xp.random.seed(1)\n",
        "y = xp.asarray(\n",
        "    xp.random.poisson(parallelproj.to_numpy_array(noise_free_data)),\n",
        "    device=dev,\n",
        "    dtype=xp.int16,\n",
        ")"
      ]
    },
    {
      "cell_type": "markdown",
      "metadata": {},
      "source": [
        "### Conversion of the emission sinogram to listmode\n",
        "\n",
        "Using :meth:`.RegularPolygonPETProjector.convert_sinogram_to_listmode` we can convert an\n",
        "integer non-TOF or TOF sinogram to an event list for listmode processing.\n",
        "\n",
        "**Note:** The create event list is sorted and should be shuffled running LM-MLEM.\n",
        "\n"
      ]
    },
    {
      "cell_type": "code",
      "execution_count": 6,
      "metadata": {},
      "outputs": [
        {
          "name": "stdout",
          "output_type": "stream",
          "text": [
            "Unique TOF bins:  [-6 -5 -4 -3 -2 -1  0  1  2  3  4  5  6]\n",
            "Number of events in each TOF bin:  [ 6667850  7519334 11152709 18992285 28448300 35908841 38956743 35972293\n",
            " 28552265 19045525 11168098  7515656  6659146]\n"
          ]
        }
      ],
      "source": [
        "event_start_coords, event_end_coords, event_tofbins = proj.convert_sinogram_to_listmode(\n",
        "    y\n",
        ")\n",
        "\n",
        "# count unique values in event_tofbins and number of events for each unique value\n",
        "unique_tofbins, num_events_bin = xp.unique(event_tofbins, return_counts=True)\n",
        "print(\"Unique TOF bins: \", unique_tofbins)\n",
        "print(\"Number of events in each TOF bin: \", num_events_bin)\n",
        "\n",
        "# # select randomly 10 million events, they are ordered\n",
        "# num_events_original = event_start_coords.shape[0] \n",
        "# num_events_downsampled = 70_000\n",
        "# event_end_coords = event_end_coords[::num_events_original // num_events_downsampled, :]\n",
        "# event_start_coords = event_start_coords[::num_events_original // num_events_downsampled, :]\n",
        "# event_tofbins = event_tofbins[::num_events_original // num_events_downsampled]\n",
        "\n",
        "# print(event_start_coords.shape, event_end_coords.shape, event_tofbins.shape)\n"
      ]
    },
    {
      "cell_type": "markdown",
      "metadata": {},
      "source": [
        "## Setup of the LM subset projectors and LM subset forward models\n",
        "\n"
      ]
    },
    {
      "cell_type": "code",
      "execution_count": 7,
      "metadata": {
        "collapsed": false
      },
      "outputs": [],
      "source": [
        "num_subsets = 10\n",
        "subset_slices = [slice(i, None, num_subsets) for i in range(num_subsets)]\n",
        "\n",
        "lm_pet_subset_linop_seq = []\n",
        "\n",
        "for i, sl in enumerate(subset_slices):\n",
        "    subset_lm_proj = parallelproj.ListmodePETProjector(\n",
        "        event_start_coords[sl, :],\n",
        "        event_end_coords[sl, :],\n",
        "        proj.in_shape,\n",
        "        proj.voxel_size,\n",
        "        proj.img_origin,\n",
        "    )\n",
        "\n",
        "    # recalculate the attenuation factor for all LM events\n",
        "    # this needs to be a non-TOF projection\n",
        "    # subset_att_list = xp.exp(-subset_lm_proj(x_att))\n",
        "\n",
        "    # enable TOF in the LM projector\n",
        "    subset_lm_proj.tof_parameters = proj.tof_parameters\n",
        "    if proj.tof:\n",
        "        # we need to make a copy of the 1D subset event_tofbins array\n",
        "        # stupid way of doing this, but torch asarray copy doesn't seem to work\n",
        "        subset_lm_proj.event_tofbins = 1 * event_tofbins[sl] * 0###\n",
        "        subset_lm_proj.tof = proj.tof\n",
        "\n",
        "    # subset_lm_att_op = parallelproj.ElementwiseMultiplicationOperator(subset_att_list)\n",
        "\n",
        "    lm_pet_subset_linop_seq.append(\n",
        "        parallelproj.CompositeLinearOperator(\n",
        "            # (subset_lm_att_op, subset_lm_proj, res_model)\n",
        "            (subset_lm_proj, res_model)\n",
        "        )\n",
        "    )\n",
        "\n",
        "lm_pet_subset_linop_seq = parallelproj.LinearOperatorSequence(lm_pet_subset_linop_seq)\n",
        "\n",
        "# create the contamination list\n",
        "contamination_list = xp.full(\n",
        "    event_start_coords.shape[0],\n",
        "    float(xp.reshape(contamination, (size(contamination),))[0]),\n",
        "    device=dev,\n",
        "    dtype=xp.float32,\n",
        ")"
      ]
    },
    {
      "cell_type": "markdown",
      "metadata": {},
      "source": [
        "## LM OSEM reconstruction\n",
        "\n",
        "The EM update that can be used in LM-OSEM is given by\n",
        "\n",
        "\\begin{align}x^+ = \\frac{x}{(A^k)^H 1} (A_{LM}^k)^H \\frac{1}{A_{LM}^k x + s_{LM}^k}\\end{align}\n",
        "\n",
        "to calculate the minimizer of $f(x)$ iteratively.\n",
        "\n"
      ]
    },
    {
      "cell_type": "code",
      "execution_count": 8,
      "metadata": {
        "collapsed": false
      },
      "outputs": [],
      "source": [
        "def lm_em_update(\n",
        "    x_cur: Array,\n",
        "    op: parallelproj.LinearOperator,\n",
        "    adjoint_ones: Array,\n",
        ") -> Array:\n",
        "    \"\"\"LM EM update\n",
        "\n",
        "    Parameters\n",
        "    ----------\n",
        "    x_cur : Array\n",
        "        current solution\n",
        "    op : parallelproj.LinearOperator\n",
        "        subset listmode linear forward operator\n",
        "    s : Array\n",
        "        subset contamination list\n",
        "    adjoint_ones : Array\n",
        "        adjoint of ones of the non-LM (the complete) operator\n",
        "        divided by the number of subsets\n",
        "\n",
        "    Returns\n",
        "    -------\n",
        "    Array\n",
        "        _description_\n",
        "    \"\"\"\n",
        "    ybar = op(x_cur) \n",
        "    return x_cur * op.adjoint(1 / ybar) / adjoint_ones"
      ]
    },
    {
      "cell_type": "markdown",
      "metadata": {},
      "source": [
        "## Run LM OSEM iterations\n",
        "\n"
      ]
    },
    {
      "cell_type": "code",
      "execution_count": 9,
      "metadata": {
        "collapsed": false
      },
      "outputs": [
        {
          "name": "stdout",
          "output_type": "stream",
          "text": [
            "OSEM iteration 010 / 005 / 005\r"
          ]
        }
      ],
      "source": [
        "# number of MLEM iterations\n",
        "num_iter = 50 // num_subsets\n",
        "\n",
        "# initialize x\n",
        "x = xp.ones(pet_lin_op.in_shape, dtype=xp.float32, device=dev)\n",
        "# calculate A^H 1\n",
        "adjoint_ones = pet_lin_op.adjoint(\n",
        "    xp.ones(pet_lin_op.out_shape, dtype=xp.float32, device=dev)\n",
        ")\n",
        "\n",
        "for i in range(num_iter):\n",
        "    for k, sl in enumerate(subset_slices):\n",
        "        print(f\"OSEM iteration {(k+1):03} / {(i + 1):03} / {num_iter:03}\", end=\"\\r\")\n",
        "        x = lm_em_update(\n",
        "            x,\n",
        "            lm_pet_subset_linop_seq[k],\n",
        "            adjoint_ones / num_subsets,\n",
        "        )"
      ]
    },
    {
      "cell_type": "markdown",
      "metadata": {},
      "source": [
        "## Calculate the negative Poisson log-likelihood function of the reconstruction\n",
        "\n"
      ]
    },
    {
      "cell_type": "code",
      "execution_count": 10,
      "metadata": {
        "collapsed": false
      },
      "outputs": [
        {
          "name": "stdout",
          "output_type": "stream",
          "text": [
            "\n",
            "LM-OSEM cost -1.860350E+08 after 005 iterations with 10 subsets\n"
          ]
        }
      ],
      "source": [
        "# calculate the negative Poisson log-likelihood function of the reconstruction\n",
        "exp = pet_lin_op(x) + contamination\n",
        "# calculate the relative cost and distance to the optimal point\n",
        "cost = float(xp.sum(exp - xp.astype(y, xp.float32) * xp.log(exp)))\n",
        "print(\n",
        "    f\"\\nLM-OSEM cost {cost:.6E} after {num_iter:03} iterations with {num_subsets} subsets\"\n",
        ")"
      ]
    },
    {
      "cell_type": "markdown",
      "metadata": {},
      "source": [
        "## Visualize the results\n",
        "\n"
      ]
    },
    {
      "cell_type": "code",
      "execution_count": 11,
      "metadata": {
        "collapsed": false
      },
      "outputs": [
        {
          "name": "stdout",
          "output_type": "stream",
          "text": [
            "12800\n"
          ]
        },
        {
          "name": "stderr",
          "output_type": "stream",
          "text": [
            "/tmp/ipykernel_223490/564837537.py:23: UserWarning: FigureCanvasAgg is non-interactive, and thus cannot be shown\n",
            "  fig.show()\n"
          ]
        },
        {
          "data": {
            "image/png": "[encoded data removed]",
            "text/plain": [
              "<Figure size 1000x500 with 2 Axes>"
            ]
          },
          "metadata": {},
          "output_type": "display_data"
        }
      ],
      "source": [
        "def _update_img(i):\n",
        "    img0.set_data(x_true_np[:, :, i])\n",
        "    img1.set_data(x_np[:, :, i])\n",
        "    ax[0].set_title(f\"true image - plane {i:02}\")\n",
        "    ax[1].set_title(\n",
        "        f\"LM OSEM iteration {num_iter} - {num_subsets} subsets - plane {i:02}\"\n",
        "    )\n",
        "    return (img0, img1)\n",
        "\n",
        "\n",
        "x_true_np = parallelproj.to_numpy_array(x_true)\n",
        "x_np = parallelproj.to_numpy_array(x)\n",
        "\n",
        "fig, ax = plt.subplots(1, 2, figsize=(10, 5))\n",
        "vmax = x_np.max()\n",
        "img0 = ax[0].imshow(x_true_np[:, :, 2], cmap=\"jet\")\n",
        "img1 = ax[1].imshow(x_np[:, :, 2], cmap=\"jet\")\n",
        "print(x.size - xp.isnan(x).sum())\n",
        "ax[0].set_title(f\"true image - plane {0:02}\")\n",
        "ax[1].set_title(f\"LM OSEM iteration {num_iter} - {num_subsets} subsets - plane {0:02}\")\n",
        "fig.tight_layout()\n",
        "# ani = animation.FuncAnimation(fig, _update_img, x_np.shape[2], interval=200, blit=False)\n",
        "fig.show()"
      ]
    }
  ],
  "metadata": {
    "kernelspec": {
      "display_name": "Python 3",
      "language": "python",
      "name": "python3"
    },
    "language_info": {
      "codemirror_mode": {
        "name": "ipython",
        "version": 3
      },
      "file_extension": ".py",
      "mimetype": "text/x-python",
      "name": "python",
      "nbconvert_exporter": "python",
      "pygments_lexer": "ipython3",
      "version": "3.12.2"
    }
  },
  "nbformat": 4,
  "nbformat_minor": 0
}
