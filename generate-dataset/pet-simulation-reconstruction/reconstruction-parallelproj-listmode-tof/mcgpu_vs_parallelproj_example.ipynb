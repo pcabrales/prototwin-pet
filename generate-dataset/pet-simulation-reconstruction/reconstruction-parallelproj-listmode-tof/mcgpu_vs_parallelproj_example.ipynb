{
  "cells": [
    {
      "cell_type": "markdown",
      "metadata": {},
      "source": [
        "\n",
        "# TOF listmode OSEM with projection data\n",
        "\n",
        "This example demonstrates the use of the listmode OSEM algorithm to minimize the negative Poisson log-likelihood function.\n",
        "\n",
        "\\begin{align}f(x) = \\sum_{i=1}^m \\bar{y}_i (x) - \\bar{y}_i (x) \\log(y_i)\\end{align}\n",
        "\n",
        "subject to\n",
        "\n",
        "\\begin{align}x \\geq 0\\end{align}\n",
        "\n",
        "using the listmode linear forward model\n",
        "\n",
        "\\begin{align}\\bar{y}_{LM}(x) = A_{LM} x + s\\end{align}\n",
        "\n",
        "and data stored in listmode format (event by event).\n",
        "\n",
        ".. tip::\n",
        "    parallelproj is python array API compatible meaning it supports different \n",
        "    array backends (e.g. numpy, cupy, torch, ...) and devices (CPU or GPU).\n",
        "    Choose your preferred array API ``xp`` and device ``dev`` below.\n",
        "\n",
        "<img src=\"https://mybinder.org/badge_logo.svg\" target=\"https://mybinder.org/v2/gh/gschramm/parallelproj/master?labpath=examples\">\n"
      ]
    },
    {
      "cell_type": "code",
      "execution_count": 1,
      "metadata": {
        "collapsed": false
      },
      "outputs": [
        {
          "name": "stdout",
          "output_type": "stream",
          "text": [
            "\n",
            "          -  -  -  -  -  -  -  -   -  -  -  -\n",
            "          P  A  R  A  L  L  E  L | P  R  O  J\n",
            "          -  -  -  -  -  -  -  -   -  -  -  -\n",
            "\n",
            "    =================================================\n",
            "\n",
            "         Please consider citing our publication\n",
            "      ---------------------------------------------\n",
            "      Georg Schramm and Kris Thielemans:\n",
            "      \"PARALLELPROJ—an open-source framework for\n",
            "       fast calculation of projections in\n",
            "       tomography\"\n",
            "      Front. Nucl. Med., 08 January 2024\n",
            "      Sec. PET and SPECT, Vol 3\n",
            "      https://doi.org/10.3389/fnume.2023.1324562\n",
            "\n",
            "    =================================================\n",
            " \n",
            "    parallelproj C    lib: /home/pablo/anaconda3/envs/recon/lib/libparallelproj_c.so.1.8.0\n",
            "    parallelproj CUDA lib: /home/pablo/anaconda3/envs/recon/lib/libparallelproj_cuda.so.1.8.0\n",
            "    \n"
          ]
        }
      ],
      "source": [
        "from __future__ import annotations\n",
        "from array_api_strict._array_object import Array\n",
        "\n",
        "# import array_api_compat.numpy as xp\n",
        "\n",
        "import array_api_compat.cupy as xp\n",
        "# import array_api_compat.torch as xp\n",
        "\n",
        "import parallelproj\n",
        "from array_api_compat import to_device, size\n",
        "import array_api_compat.numpy as np\n",
        "import matplotlib.pyplot as plt\n",
        "import matplotlib.animation as animation\n",
        "from copy import copy\n",
        "\n",
        "# choose a device (CPU or CUDA GPU)\n",
        "if \"numpy\" in xp.__name__:\n",
        "    # using numpy, device must be cpu\n",
        "    dev = \"cpu\"\n",
        "elif \"cupy\" in xp.__name__:\n",
        "    # using cupy, only cuda devices are possible\n",
        "    dev = xp.cuda.Device(0)\n",
        "elif \"torch\" in xp.__name__:\n",
        "    # using torch valid choices are 'cpu' or 'cuda'\n",
        "    if parallelproj.cuda_present:\n",
        "        dev = \"cuda\"\n",
        "    else:\n",
        "        dev = \"cpu\""
      ]
    },
    {
      "cell_type": "markdown",
      "metadata": {},
      "source": [
        "## Simulation of PET data in sinogram space\n",
        "\n",
        "In this example, we use simulated listmode data for which we first\n",
        "need to setup a sinogram forward model to create a noise-free and noisy\n",
        "emission sinogram that can be converted to listmode data.\n",
        "\n"
      ]
    },
    {
      "cell_type": "markdown",
      "metadata": {},
      "source": [
        "### Setup of the sinogram forward model\n",
        "\n",
        "We setup a linear forward operator $A$ consisting of an\n",
        "image-based resolution model, a non-TOF PET projector and an attenuation model\n",
        "\n",
        "\n"
      ]
    },
    {
      "cell_type": "code",
      "execution_count": 2,
      "metadata": {
        "collapsed": false
      },
      "outputs": [
        {
          "name": "stdout",
          "output_type": "stream",
          "text": [
            "20 20 (40, 40, 8)\n"
          ]
        }
      ],
      "source": [
        "num_rings = 40\n",
        "radius = 65.0\n",
        "scanner = parallelproj.RegularPolygonPETScannerGeometry(\n",
        "    xp,\n",
        "    dev,\n",
        "    radius=radius,\n",
        "    num_sides=180,\n",
        "    num_lor_endpoints_per_side=1,\n",
        "    lor_spacing=2.3,\n",
        "    ring_positions=xp.linspace(-10, 10, num_rings),\n",
        "    symmetry_axis=2,\n",
        ")\n",
        "\n",
        "# setup the LOR descriptor that defines the sinogram\n",
        "\n",
        "img_shape = (40, 40, 8)\n",
        "voxel_size = (2.0, 2.0, 2.0)\n",
        "\n",
        "lor_desc = parallelproj.RegularPolygonPETLORDescriptor(\n",
        "    scanner,\n",
        "    radial_trim=10,\n",
        "    max_ring_difference=79,\n",
        "    sinogram_order=parallelproj.SinogramSpatialAxisOrder.RVP,\n",
        ")\n",
        "\n",
        "proj = parallelproj.RegularPolygonPETProjector(\n",
        "    lor_desc, img_shape=img_shape, voxel_size=voxel_size\n",
        ")\n",
        "\n",
        "# setup a simple test image containing a few \"hot rods\"\n",
        "x_true = xp.ones(proj.in_shape, device=dev, dtype=xp.float32)\n",
        "c0 = proj.in_shape[0] // 2\n",
        "c1 = proj.in_shape[1] // 2\n",
        "x_true[(c0 - 2) : (c0 + 2), (c1 - 2) : (c1 + 2), :] = 5.0\n",
        "x_true[4, c1, 4:] = 5.0\n",
        "x_true[c0, 4, 4:] = 5.0\n",
        "\n",
        "x_true[:2, :, :] = 0\n",
        "x_true[-2:, :, :] = 0\n",
        "x_true[:, :2, :] = 0\n",
        "x_true[:, -2:, :] = 0\n",
        "print(c0, c1, x_true.shape)"
      ]
    },
    {
      "cell_type": "markdown",
      "metadata": {},
      "source": [
        "### Attenuation image and sinogram setup\n",
        "\n"
      ]
    },
    {
      "cell_type": "code",
      "execution_count": 3,
      "metadata": {
        "collapsed": false
      },
      "outputs": [],
      "source": [
        "# # setup an attenuation image\n",
        "# x_att = 0.01 * xp.astype(x_true > 0, xp.float32)\n",
        "# # calculate the attenuation sinogram\n",
        "# att_sino = xp.exp(-proj(x_att))"
      ]
    },
    {
      "cell_type": "markdown",
      "metadata": {},
      "source": [
        "### Complete sinogram PET forward model setup\n",
        "\n",
        "We combine an image-based resolution model,\n",
        "a non-TOF or TOF PET projector and an attenuation model\n",
        "into a single linear operator.\n",
        "\n"
      ]
    },
    {
      "cell_type": "code",
      "execution_count": 4,
      "metadata": {
        "collapsed": false
      },
      "outputs": [
        {
          "name": "stdout",
          "output_type": "stream",
          "text": [
            "TOFps 188.4\n"
          ]
        }
      ],
      "source": [
        "# enable TOF - comment if you want to run non-TOF\n",
        "sigma_tof =12.0\n",
        "proj.tof_parameters = parallelproj.TOFParameters(\n",
        "    num_tofbins=13, tofbin_width=12.0, sigma_tof=sigma_tof\n",
        ")\n",
        "\n",
        "TOFps = sigma_tof * 2.355 / 1e-12 / 3e8 / 1e3 * 2\n",
        "print(\"TOFps\", TOFps)\n",
        "\n",
        "# TOFps = 225\n",
        "# tofbin_FWHM = TOFps * 1e-12 * 3e8 / 2 *1e3 # *1e3 to mm;  *1e-12 to s; *3e8 to m/s;  /2 to get one-way distance;\n",
        "# sigma_tof = tofbin_FWHM / 2.355 # / 2.355 to get sigma from FWHM\n",
        "# tofbin_width = 1.03 * sigma_tof  # as given in https://parallelproj.readthedocs.io/en/stable/python_api.html#module-parallelproj.tof\n",
        "# num_tofbins = int(2 * 2 * np.sqrt(radius**2 + 10**2) // tofbin_width)\n",
        "# if num_tofbins % 2 == 0:\n",
        "#     num_tofbins -= 1\n",
        "# print(\"num_tofbins\", num_tofbins)\n",
        "# # setup TOF parameters with a TOF resolution FWHM = 30mm (ca 200ps)\n",
        "# tof_params = parallelproj.TOFParameters(\n",
        "#     sigma_tof=sigma_tof, num_tofbins=num_tofbins, tofbin_width=tofbin_width\n",
        "# )\n",
        "# proj.tof_parameters = tof_params\n",
        "\n",
        "res_model = parallelproj.GaussianFilterOperator(\n",
        "    proj.in_shape, sigma=0.0 / (2.35 * proj.voxel_size)\n",
        ")\n",
        "\n",
        "# compose all 3 operators into a single linear operator\n",
        "# pet_lin_op = parallelproj.CompositeLinearOperator((att_op, proj, res_model))\n",
        "pet_lin_op = parallelproj.CompositeLinearOperator((proj, res_model))"
      ]
    },
    {
      "cell_type": "markdown",
      "metadata": {},
      "source": [
        "### Simulation of sinogram projection data\n",
        "\n",
        "We setup an arbitrary ground truth $x_{true}$ and simulate\n",
        "noise-free and noisy data $y$ by adding Poisson noise.\n",
        "\n"
      ]
    },
    {
      "cell_type": "code",
      "execution_count": 5,
      "metadata": {
        "collapsed": false
      },
      "outputs": [],
      "source": [
        "# # simulated noise-free data\n",
        "# noise_free_data = pet_lin_op(x_true)\n",
        "\n",
        "# # generate a contant contamination sinogram\n",
        "# contamination = xp.full(\n",
        "#     noise_free_data.shape,\n",
        "#     0.5 * float(xp.mean(noise_free_data)),\n",
        "#     device=dev,\n",
        "#     dtype=xp.float32,\n",
        "# )\n",
        "\n",
        "# noise_free_data += contamination\n",
        "\n",
        "# # add Poisson noise\n",
        "# np.random.seed(1)\n",
        "# y = xp.asarray(\n",
        "#     np.random.poisson(parallelproj.to_numpy_array(noise_free_data)),\n",
        "#     device=dev,\n",
        "#     dtype=xp.int16,\n",
        "# )"
      ]
    },
    {
      "cell_type": "markdown",
      "metadata": {},
      "source": [
        "### Conversion of the emission sinogram to listmode\n",
        "\n",
        "Using :meth:`.RegularPolygonPETProjector.convert_sinogram_to_listmode` we can convert an\n",
        "integer non-TOF or TOF sinogram to an event list for listmode processing.\n",
        "\n",
        "**Note:** The create event list is sorted and should be shuffled running LM-MLEM.\n",
        "\n"
      ]
    },
    {
      "cell_type": "code",
      "execution_count": 6,
      "metadata": {
        "collapsed": false
      },
      "outputs": [],
      "source": [
        "# event_start_coords, event_end_coords, event_tofbins = proj.convert_sinogram_to_listmode(\n",
        "#     y\n",
        "# )\n",
        "# print(event_end_coords[:, 0].max(), event_end_coords[:, 1].max(), event_end_coords[:, 2].max())\n",
        "# print(event_end_coords[:, 0].min(), event_end_coords[:, 1].min(), event_end_coords[:, 2].min())"
      ]
    },
    {
      "cell_type": "code",
      "execution_count": 7,
      "metadata": {},
      "outputs": [
        {
          "name": "stdout",
          "output_type": "stream",
          "text": [
            "(5233139513779, 126.78181457519531, 245, 527602.4375, -0.8053868412971497, -1.8069343566894531, 0.374250590801239, -0.9265689849853516, -0.037500202655792236, 0, 0)\n",
            "(5233139513779, 153.2188262939453, 245, 419165.90625, -0.16696695983409882, -3.1406772136688232, -0.8029423356056213, 0.5851433277130127, 0.11353801935911179, 1, 0)\n",
            "(5059809505473, 95.56725311279297, 245, 515250.34375, -0.9481937289237976, -2.6836001873016357, -0.9929090142250061, -0.08229957520961761, -0.08578140288591385, 0, 0)\n",
            "(5059809505473, 309.4801330566406, 245, 543163.4375, 0.08262317627668381, -0.2909216284751892, 0.9929177165031433, 0.08339580148458481, 0.0846143364906311, 0, 0)\n",
            "(884658948014, 125.3257064819336, 242, 487598.3125, -0.5596237182617188, -1.9061907529830933, 0.3688582479953766, -0.9282881021499634, 0.047166287899017334, 0, 0)\n"
          ]
        }
      ],
      "source": [
        "### Loading psf (listmode data)\n",
        "import struct\n",
        "import pandas as pd\n",
        "psf_path = '/home/pablo/prototwin/deep-learning-dose-activity-dictionary/pet-simulation-reconstruction/mcgpu-pet/parallelproj_sample_simulation/MCGPU_PET.psf.raw'\n",
        "\n",
        "# Define the path to your binary .raw file\n",
        "binary_file_path = psf_path\n",
        "\n",
        "# Open and read the binary file\n",
        "with open(binary_file_path, 'rb') as file:\n",
        "    # Define the structure format for one data record based on the given specification:\n",
        "    # 'Q' -> unsigned long long int (emission_time (ps))\n",
        "    # 'f' -> float (travel_time (ps))\n",
        "    # 'i' -> int (emission voxel)\n",
        "    # 'f' -> float (energy)\n",
        "    # 'f' -> float (z (cm))\n",
        "    # 'f' -> float (phi (rad))\n",
        "    # 'f' -> float (vx; x component of the incident photon direction)\n",
        "    # vx = (x2 - x1) / sqrt((x2 - x1)^2 + (y2 - y1)^2 + (z2 - z1)^2), x1,2 = r * cos(phi1,2), y1,2 = r * sin(phi1,2)\n",
        "    # 'f' -> float (vy; y component of the incident photon direction)\n",
        "    # 'f' -> float (vz; z component of the incident photon direction) \n",
        "    # 'h' -> short int (index1) (Flag for scatter: =0 for non-scattered, =1 for Compton, =2 for Rayleigh, and =3 for multiple scatter)\n",
        "    # 'h' -> short int (index2)\n",
        "    format_string = 'Q f i f f f f f f h h'\n",
        "    record_size = struct.calcsize(format_string)\n",
        "    \n",
        "    # Read all records (adjust the count if needed)\n",
        "    data = file.read()\n",
        "\n",
        "    # Calculate the number of records\n",
        "    num_records = len(data) // record_size\n",
        "\n",
        "    # Unpack all records\n",
        "    records = []\n",
        "    for i in range(num_records):\n",
        "        record_data = data[i*record_size:(i+1)*record_size]\n",
        "        record = struct.unpack(format_string, record_data)\n",
        "        records.append(record)\n",
        "\n",
        "# Print the first 5 records as an example\n",
        "for record in records[:5]:\n",
        "    print(record)\n",
        "    \n",
        "columns = [\n",
        "    'emission_time', 'travel_time', 'emission_voxel', 'energy',\n",
        "    'z', 'phi', 'vx', 'vy', 'vz', 'index1', 'index2'\n",
        "]\n",
        "\n",
        "events = pd.DataFrame(records, columns=columns)\n",
        "del records\n",
        "events = events.drop(columns=['vx', 'vy', 'vz', 'emission_voxel', 'index2'])"
      ]
    },
    {
      "cell_type": "code",
      "execution_count": 8,
      "metadata": {},
      "outputs": [
        {
          "name": "stdout",
          "output_type": "stream",
          "text": [
            "   emission_time  travel_time        energy         z       phi  index1  \\\n",
            "0  5233139513779   126.781815  527602.43750 -8.053868 -1.806934       0   \n",
            "1  5233139513779   153.218826  419165.90625 -1.669670 -3.140677       1   \n",
            "2  5059809505473    95.567253  515250.34375 -9.481937 -2.683600       0   \n",
            "3  5059809505473   309.480133  543163.43750  0.826232 -0.290922       0   \n",
            "4   884658948014   125.325706  487598.31250 -5.596237 -1.906191       0   \n",
            "\n",
            "           x          y    distance   distance2  bin  \n",
            "0 -15.206723 -63.196167   80.662036   84.000192    0  \n",
            "1 -64.999973  -0.059504   80.662036   84.000192    0  \n",
            "2 -58.301226 -28.739643  121.430146  121.514216   -1  \n",
            "3  62.268695 -18.644291  121.430146  121.514216   -1  \n",
            "4 -21.394207 -61.378236   98.523569   98.593769    0  \n"
          ]
        }
      ],
      "source": [
        "# Display the first few rows of the DataFrame\n",
        "events['x'] = radius * np.cos(events.phi)  # x position of the detector\n",
        "events['y'] = radius * np.sin(events.phi)  # y position of the detector\n",
        "events['z'] = events['z'] * 10.0  # cm to mm\n",
        "distances = np.sqrt(((events[['x', 'y', 'z']].iloc[1::2].values - events[['x', 'y', 'z']].iloc[0::2].values)**2).sum(axis=1))  # to mm\n",
        "distances = np.repeat(distances, 2) # calculate distances between detectors from the detector positions\n",
        "events['distance'] = distances\n",
        "distances = 3e8 * (events['travel_time'].iloc[1::2].values + events['travel_time'].iloc[0::2].values) * 1e-12 * 1000  # 1e-12 because of ps, 1000 because of mm\n",
        "distances = np.repeat(distances, 2) # calculate distances between detectors from the travel times\n",
        "events['distance2'] = distances\n",
        "\n",
        "TOF_resolution = TOFps  # ps, it is the minimum time difference between the arrival of two photons that it can detect. it is diveded by 2 because if one of them arrivs TOF_resolution\n",
        "bin = np.round((events['travel_time'].iloc[0::2].values - events['travel_time'].iloc[1::2].values) / TOF_resolution).astype(int)\n",
        "bin = np.repeat(bin, 2)\n",
        "events['bin'] = bin\n",
        "print(events.head())\n",
        "event_start_coordinates = xp.asarray(events[['y', 'x', 'z']].iloc[0::2].values, device=dev)  # switching z and y to match paralleproj convention\n",
        "event_end_coordinates = xp.asarray(events[['y', 'x', 'z']].iloc[1::2].values, device=dev) \n",
        "\n",
        "event_tof_bins = xp.asarray(events['bin'].iloc[0::2].values, device=dev)"
      ]
    },
    {
      "cell_type": "code",
      "execution_count": 9,
      "metadata": {},
      "outputs": [
        {
          "name": "stdout",
          "output_type": "stream",
          "text": [
            "Unique TOF bins:  [-2 -1  0]\n",
            "Number of events in each TOF bin:  [   73  5993 63819]\n"
          ]
        }
      ],
      "source": [
        "# count unique values in event_tofbins and number of events for each unique value\n",
        "unique_tofbins, num_events = xp.unique(event_tof_bins, return_counts=True)\n",
        "print(\"Unique TOF bins: \", unique_tofbins)\n",
        "print(\"Number of events in each TOF bin: \", num_events)"
      ]
    },
    {
      "cell_type": "markdown",
      "metadata": {},
      "source": [
        "## Setup of the LM subset projectors and LM subset forward models\n",
        "\n"
      ]
    },
    {
      "cell_type": "code",
      "execution_count": 10,
      "metadata": {
        "collapsed": false
      },
      "outputs": [],
      "source": [
        "num_subsets = 10\n",
        "subset_slices = [slice(i, None, num_subsets) for i in range(num_subsets)]\n",
        "\n",
        "lm_pet_subset_linop_seq = []\n",
        "\n",
        "for i, sl in enumerate(subset_slices):\n",
        "    subset_lm_proj = parallelproj.ListmodePETProjector(\n",
        "        event_start_coordinates[sl, :],\n",
        "        event_end_coordinates[sl, :],\n",
        "        proj.in_shape,\n",
        "        proj.voxel_size,\n",
        "        proj.img_origin,\n",
        "    )\n",
        "\n",
        "    # recalculate the attenuation factor for all LM events\n",
        "    # this needs to be a non-TOF projection\n",
        "    # subset_att_list = xp.exp(-subset_lm_proj(x_att))\n",
        "\n",
        "    # enable TOF in the LM projector\n",
        "    subset_lm_proj.tof_parameters = proj.tof_parameters\n",
        "    if proj.tof:\n",
        "        # we need to make a copy of the 1D subset event_tofbins array\n",
        "        # stupid way of doing this, but torch asarray copy doesn't seem to work\n",
        "        subset_lm_proj.event_tofbins = 1 * event_tof_bins[sl]\n",
        "        subset_lm_proj.tof = proj.tof\n",
        "\n",
        "    # subset_lm_att_op = parallelproj.ElementwiseMultiplicationOperator(subset_att_list)\n",
        "\n",
        "    lm_pet_subset_linop_seq.append(\n",
        "        parallelproj.CompositeLinearOperator(\n",
        "            # (subset_lm_att_op, subset_lm_proj, res_model)\n",
        "            (subset_lm_proj, res_model)\n",
        "        )\n",
        "    )\n",
        "\n",
        "lm_pet_subset_linop_seq = parallelproj.LinearOperatorSequence(lm_pet_subset_linop_seq)\n",
        "\n",
        "# # create the contamination list\n",
        "# contamination_list = xp.full(\n",
        "#     event_start_coords.shape[0],\n",
        "#     float(xp.reshape(contamination, (size(contamination),))[0]),\n",
        "#     device=dev,\n",
        "#     dtype=xp.float32,\n",
        "# )"
      ]
    },
    {
      "cell_type": "markdown",
      "metadata": {},
      "source": [
        "## LM OSEM reconstruction\n",
        "\n",
        "The EM update that can be used in LM-OSEM is given by\n",
        "\n",
        "\\begin{align}x^+ = \\frac{x}{(A^k)^H 1} (A_{LM}^k)^H \\frac{1}{A_{LM}^k x + s_{LM}^k}\\end{align}\n",
        "\n",
        "to calculate the minimizer of $f(x)$ iteratively.\n",
        "\n"
      ]
    },
    {
      "cell_type": "code",
      "execution_count": 11,
      "metadata": {
        "collapsed": false
      },
      "outputs": [],
      "source": [
        "def lm_em_update(\n",
        "    x_cur: Array,\n",
        "    op: parallelproj.LinearOperator,\n",
        "    # s: Array,\n",
        "    adjoint_ones: Array,\n",
        ") -> Array:\n",
        "    \"\"\"LM EM update\n",
        "\n",
        "    Parameters\n",
        "    ----------\n",
        "    x_cur : Array\n",
        "        current solution\n",
        "    op : parallelproj.LinearOperator\n",
        "        subset listmode linear forward operator\n",
        "    s : Array\n",
        "        subset contamination list\n",
        "    adjoint_ones : Array\n",
        "        adjoint of ones of the non-LM (the complete) operator\n",
        "        divided by the number of subsets\n",
        "\n",
        "    Returns\n",
        "    -------\n",
        "    Array\n",
        "        _description_\n",
        "    \"\"\"\n",
        "    ybar = op(x_cur)\n",
        "    x = x_cur * op.adjoint(1 / (1e-10 + ybar)) / adjoint_ones\n",
        "    return x"
      ]
    },
    {
      "cell_type": "markdown",
      "metadata": {},
      "source": [
        "## Run LM OSEM iterations\n",
        "\n"
      ]
    },
    {
      "cell_type": "code",
      "execution_count": 12,
      "metadata": {
        "collapsed": false
      },
      "outputs": [
        {
          "name": "stdout",
          "output_type": "stream",
          "text": [
            "(40, 40, 8)\n",
            "OSEM iteration 010 / 005 / 005\r"
          ]
        }
      ],
      "source": [
        "# number of MLEM iterations\n",
        "num_iter = 50 // num_subsets\n",
        "\n",
        "# initialize x\n",
        "x = xp.ones(img_shape, dtype=xp.float32, device=dev)\n",
        "# calculate A^H 1\n",
        "adjoint_ones = proj.adjoint(\n",
        "    xp.ones(proj.out_shape, dtype=xp.float32, device=dev)\n",
        ")\n",
        "print(adjoint_ones.shape)\n",
        "\n",
        "for i in range(num_iter):\n",
        "    for k, sl in enumerate(subset_slices):\n",
        "        print(f\"OSEM iteration {(k+1):03} / {(i + 1):03} / {num_iter:03}\", end=\"\\r\")\n",
        "        x = lm_em_update(\n",
        "            x,\n",
        "            lm_pet_subset_linop_seq[k],\n",
        "            # contamination_list[sl],\n",
        "            adjoint_ones / num_subsets,\n",
        "        )"
      ]
    },
    {
      "cell_type": "markdown",
      "metadata": {},
      "source": [
        "## Calculate the negative Poisson log-likelihood function of the reconstruction\n",
        "\n"
      ]
    },
    {
      "cell_type": "code",
      "execution_count": 13,
      "metadata": {
        "collapsed": false
      },
      "outputs": [],
      "source": [
        "# calculate the negative Poisson log-likelihood function of the reconstruction\n",
        "exp = pet_lin_op(x)\n",
        "# # calculate the relative cost and distance to the optimal point\n",
        "# cost = float(xp.sum(exp - xp.astype(y, xp.float32) * xp.log(exp)))\n",
        "# print(\n",
        "#     f\"\\nLM-OSEM cost {cost:.6E} after {num_iter:03} iterations with {num_subsets} subsets\"\n",
        "# )"
      ]
    },
    {
      "cell_type": "markdown",
      "metadata": {},
      "source": [
        "## Visualize the results\n",
        "\n"
      ]
    },
    {
      "cell_type": "code",
      "execution_count": 14,
      "metadata": {
        "collapsed": false
      },
      "outputs": [
        {
          "name": "stdout",
          "output_type": "stream",
          "text": [
            "(40, 40, 8)\n"
          ]
        },
        {
          "name": "stderr",
          "output_type": "stream",
          "text": [
            "/tmp/ipykernel_228982/2374642910.py:24: UserWarning: FigureCanvasAgg is non-interactive, and thus cannot be shown\n",
            "  fig.show()\n"
          ]
        },
        {
          "data": {
            "image/png": "[encoded data removed]",
            "text/plain": [
              "<Figure size 1000x500 with 2 Axes>"
            ]
          },
          "metadata": {},
          "output_type": "display_data"
        }
      ],
      "source": [
        "def _update_img(i):\n",
        "    img0.set_data(x_true_np[:, :, i])\n",
        "    img1.set_data(x_np[:, :, i])\n",
        "    ax[0].set_title(f\"true image - plane {i:02}\")\n",
        "    ax[1].set_title(\n",
        "        f\"LM OSEM iteration {num_iter} - {num_subsets} subsets - plane {i:02}\"\n",
        "    )\n",
        "    return (img0, img1)\n",
        "\n",
        "print(x_true.shape)\n",
        "\n",
        "\n",
        "x_true_np = parallelproj.to_numpy_array(x_true)\n",
        "x_np = parallelproj.to_numpy_array(x)\n",
        "\n",
        "fig, ax = plt.subplots(1, 2, figsize=(10, 5))\n",
        "vmax = x_np.max()\n",
        "img0 = ax[0].imshow(x_true_np[:, :, 4], cmap=\"jet\")\n",
        "img1 = ax[1].imshow(x_np[:, :, 4], cmap=\"jet\")\n",
        "ax[0].set_title(f\"true image - plane {0:02}\")\n",
        "ax[1].set_title(f\"LM OSEM iteration {num_iter} - {num_subsets} subsets - plane {0:02}\")\n",
        "fig.tight_layout()\n",
        "# ani = animation.FuncAnimation(fig, _update_img, x_np.shape[2], interval=200, blit=False)\n",
        "fig.show()"
      ]
    },
    {
      "cell_type": "code",
      "execution_count": 15,
      "metadata": {},
      "outputs": [
        {
          "name": "stdout",
          "output_type": "stream",
          "text": [
            "Mean squared error: 1.064236E+00\n"
          ]
        }
      ],
      "source": [
        "mse = np.mean((x_true_np - x_np) ** 2)\n",
        "print(f\"Mean squared error: {mse:.6E}\")"
      ]
    },
    {
      "cell_type": "code",
      "execution_count": 16,
      "metadata": {},
      "outputs": [
        {
          "data": {
            "text/plain": [
              "1.040372"
            ]
          },
          "execution_count": 16,
          "metadata": {},
          "output_type": "execute_result"
        }
      ],
      "source": [
        "1.040372E+00"
      ]
    }
  ],
  "metadata": {
    "kernelspec": {
      "display_name": "Python 3",
      "language": "python",
      "name": "python3"
    },
    "language_info": {
      "codemirror_mode": {
        "name": "ipython",
        "version": 3
      },
      "file_extension": ".py",
      "mimetype": "text/x-python",
      "name": "python",
      "nbconvert_exporter": "python",
      "pygments_lexer": "ipython3",
      "version": "3.12.2"
    }
  },
  "nbformat": 4,
  "nbformat_minor": 0
}
