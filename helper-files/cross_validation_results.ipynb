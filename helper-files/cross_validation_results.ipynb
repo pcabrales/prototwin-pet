{
 "cells": [
  {
   "cell_type": "code",
   "execution_count": 22,
   "metadata": {},
   "outputs": [],
   "source": [
    "# This file is to combine the results from different random seeds\n",
    "import numpy as np\n",
    "\n",
    "def read_metrics_from_files(file_paths, row_number):\n",
    "    mean_list = []\n",
    "    std_list = []\n",
    "    for file_path in file_paths:\n",
    "        with open(file_path, 'r') as file:\n",
    "            lines = file.readlines()\n",
    "            if row_number < 1 or row_number > len(lines):\n",
    "                raise IndexError(f\"Row number {row_number} is out of range in file {file_path}\")\n",
    "            row = lines[row_number - 1].strip()\n",
    "            if row.count(\" +- \") == 1:\n",
    "                parts = row.split(\" +- \")\n",
    "            elif row.count(\" +- \") > 1:\n",
    "                parts = row.rsplit(\" +- \", 1)\n",
    "            mean_str = parts[0].split(':')[-1].strip()\n",
    "            std_str = parts[1].strip()\n",
    "            mean = float(mean_str)\n",
    "            std = float(std_str)\n",
    "            mean_list.append(mean)\n",
    "            std_list.append(std)\n",
    "    return np.array(mean_list), np.array(std_list)\n"
   ]
  },
  {
   "cell_type": "code",
   "execution_count": 26,
   "metadata": {},
   "outputs": [
    {
     "name": "stdout",
     "output_type": "stream",
     "text": [
      "Combined mean:  0.05226186811923981\n",
      "Combined standard deviation:  0.0701800152083253\n"
     ]
    }
   ],
   "source": [
    "file_paths = ['/home/pablo/prototwin/deep-learning-dose-activity-dictionary/models/test-results/head-sobp-nnFormer-v17-results.txt',\n",
    "              '/home/pablo/prototwin/deep-learning-dose-activity-dictionary/models/test-results/head-sobp-nnFormer-v17-seed43-results.txt',\n",
    "              '/home/pablo/prototwin/deep-learning-dose-activity-dictionary/models/test-results/head-sobp-nnFormer-v17-seed45-results.txt', \n",
    "              '/home/pablo/prototwin/deep-learning-dose-activity-dictionary/models/test-results/head-sobp-nnFormer-v17-seed46-results.txt',\n",
    "              '/home/pablo/prototwin/deep-learning-dose-activity-dictionary/models/test-results/head-sobp-nnFormer-v17-seed47-results.txt'\n",
    "              ]\n",
    "row_number = 14\n",
    "means, stds = read_metrics_from_files(file_paths, row_number)\n",
    "# means = np.array([1.15, 1.3, 0.986, 0.927, 1.1])\n",
    "# stds = np.array([0.225, 0.198, 0.22, 0.18, 0.262])\n",
    "sample_sizes = np.array([25, 25, 25, 25, 25])\n",
    "\n",
    "# Step 1: Calculate combined mean\n",
    "combined_mean = np.sum(sample_sizes * means) / np.sum(sample_sizes)\n",
    "\n",
    "# Step 2: Calculate combined variance\n",
    "combined_variance = np.sum(sample_sizes * (stds**2 + means**2)) / np.sum(sample_sizes) - combined_mean**2\n",
    "\n",
    "# Step 3: Calculate combined standard deviation\n",
    "combined_std = np.sqrt(combined_variance)\n",
    "\n",
    "print(\"Combined mean: \", combined_mean)\n",
    "print(\"Combined standard deviation: \", combined_std)"
   ]
  },
  {
   "cell_type": "code",
   "execution_count": null,
   "metadata": {},
   "outputs": [],
   "source": []
  }
 ],
 "metadata": {
  "kernelspec": {
   "display_name": "dl-dad",
   "language": "python",
   "name": "python3"
  },
  "language_info": {
   "codemirror_mode": {
    "name": "ipython",
    "version": 3
   },
   "file_extension": ".py",
   "mimetype": "text/x-python",
   "name": "python",
   "nbconvert_exporter": "python",
   "pygments_lexer": "ipython3",
   "version": "3.8.18"
  }
 },
 "nbformat": 4,
 "nbformat_minor": 2
}
